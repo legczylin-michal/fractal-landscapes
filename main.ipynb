{
 "cells": [
  {
   "cell_type": "code",
   "execution_count": 1,
   "id": "8e023d63-ab25-49ed-a3bd-92378871a081",
   "metadata": {},
   "outputs": [],
   "source": [
    "import numpy as np\n",
    "import pandas as pd\n",
    "import matplotlib.pyplot as plt"
   ]
  },
  {
   "cell_type": "code",
   "execution_count": 3,
   "id": "c7fb6d4d-07ba-4278-932e-52e206a519f4",
   "metadata": {},
   "outputs": [],
   "source": [
    "vec_1 = np.random.random(size=(1, 5))"
   ]
  },
  {
   "cell_type": "code",
   "execution_count": 5,
   "id": "e55caf26-04c3-4511-a988-323319d9baa4",
   "metadata": {},
   "outputs": [
    {
     "data": {
      "text/plain": [
       "array([[0.24799903, 0.10274486, 0.51158109, 0.02954719, 0.79631603]])"
      ]
     },
     "execution_count": 5,
     "metadata": {},
     "output_type": "execute_result"
    }
   ],
   "source": [
    "vec_1"
   ]
  },
  {
   "cell_type": "code",
   "execution_count": 7,
   "id": "57b0d623-e9e1-4a90-a55c-05dee48f3107",
   "metadata": {},
   "outputs": [],
   "source": [
    "vec_2 = np.random.random(size=(1, 5))"
   ]
  },
  {
   "cell_type": "code",
   "execution_count": 9,
   "id": "6cf24ecc-001d-4f57-a7e6-44807e3d9695",
   "metadata": {},
   "outputs": [
    {
     "data": {
      "text/plain": [
       "array([[0.31950889, 0.89543588, 0.60740208, 0.73698811, 0.97023097]])"
      ]
     },
     "execution_count": 9,
     "metadata": {},
     "output_type": "execute_result"
    }
   ],
   "source": [
    "vec_2"
   ]
  }
 ],
 "metadata": {
  "kernelspec": {
   "display_name": "Python 3 (ipykernel)",
   "language": "python",
   "name": "python3"
  },
  "language_info": {
   "codemirror_mode": {
    "name": "ipython",
    "version": 3
   },
   "file_extension": ".py",
   "mimetype": "text/x-python",
   "name": "python",
   "nbconvert_exporter": "python",
   "pygments_lexer": "ipython3",
   "version": "3.12.4"
  }
 },
 "nbformat": 4,
 "nbformat_minor": 5
}
